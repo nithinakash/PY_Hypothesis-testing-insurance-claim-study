{
 "cells": [
  {
   "cell_type": "markdown",
   "id": "3b4ac159",
   "metadata": {},
   "source": [
    "### Required Packages"
   ]
  },
  {
   "cell_type": "code",
   "execution_count": 1,
   "id": "e593bb24",
   "metadata": {},
   "outputs": [],
   "source": [
    "import numpy as np\n",
    "import pandas as pd\n",
    "import datetime as dt\n",
    "import matplotlib as plt\n",
    "import seaborn as sns\n",
    "import scipy.stats as stats"
   ]
  },
  {
   "cell_type": "markdown",
   "id": "653d006c",
   "metadata": {},
   "source": [
    "### 1.\tImport claims_data.csv and cust_data.csv which is provided to you and combine the two datasets appropriately to create a 360-degree view of the data. Use the same for the subsequent questions."
   ]
  },
  {
   "cell_type": "code",
   "execution_count": 2,
   "id": "679968af",
   "metadata": {},
   "outputs": [],
   "source": [
    "data = pd.read_csv('C:/Users/Nithin/Downloads/Python Foundation Case Study 3 - Insurance Claims Case Study/cust_demographics.csv')\n",
    "claim = pd.read_csv('C:/Users/Nithin/Downloads/Python Foundation Case Study 3 - Insurance Claims Case Study/claims.csv')"
   ]
  },
  {
   "cell_type": "code",
   "execution_count": 3,
   "id": "2f4ec48c",
   "metadata": {},
   "outputs": [],
   "source": [
    "cust_data = pd.merge(left=data,right=claim,how = 'inner',left_on='CUST_ID',right_on='customer_id')\n",
    "cust_data.drop(columns='customer_id',inplace=True)"
   ]
  },
  {
   "cell_type": "markdown",
   "id": "1e765536",
   "metadata": {},
   "source": [
    "### 2.\tPerform a data audit for the datatypes and find out if there are any mismatch within the current datatypes of the columns and their business significance."
   ]
  },
  {
   "cell_type": "code",
   "execution_count": 4,
   "id": "f345150a",
   "metadata": {},
   "outputs": [
    {
     "name": "stdout",
     "output_type": "stream",
     "text": [
      "<class 'pandas.core.frame.DataFrame'>\n",
      "Int64Index: 1085 entries, 0 to 1084\n",
      "Data columns (total 15 columns):\n",
      " #   Column               Non-Null Count  Dtype  \n",
      "---  ------               --------------  -----  \n",
      " 0   CUST_ID              1085 non-null   int64  \n",
      " 1   gender               1085 non-null   object \n",
      " 2   DateOfBirth          1085 non-null   object \n",
      " 3   State                1085 non-null   object \n",
      " 4   Contact              1085 non-null   object \n",
      " 5   Segment              1085 non-null   object \n",
      " 6   claim_id             1085 non-null   int64  \n",
      " 7   incident_cause       1085 non-null   object \n",
      " 8   claim_date           1085 non-null   object \n",
      " 9   claim_area           1085 non-null   object \n",
      " 10  police_report        1085 non-null   object \n",
      " 11  claim_type           1085 non-null   object \n",
      " 12  claim_amount         1020 non-null   object \n",
      " 13  total_policy_claims  1075 non-null   float64\n",
      " 14  fraudulent           1085 non-null   object \n",
      "dtypes: float64(1), int64(2), object(12)\n",
      "memory usage: 135.6+ KB\n"
     ]
    }
   ],
   "source": [
    "cust_data.info()"
   ]
  },
  {
   "cell_type": "code",
   "execution_count": 5,
   "id": "61a9ea1f",
   "metadata": {},
   "outputs": [
    {
     "data": {
      "text/html": [
       "<div>\n",
       "<style scoped>\n",
       "    .dataframe tbody tr th:only-of-type {\n",
       "        vertical-align: middle;\n",
       "    }\n",
       "\n",
       "    .dataframe tbody tr th {\n",
       "        vertical-align: top;\n",
       "    }\n",
       "\n",
       "    .dataframe thead th {\n",
       "        text-align: right;\n",
       "    }\n",
       "</style>\n",
       "<table border=\"1\" class=\"dataframe\">\n",
       "  <thead>\n",
       "    <tr style=\"text-align: right;\">\n",
       "      <th></th>\n",
       "      <th>CUST_ID</th>\n",
       "      <th>claim_id</th>\n",
       "      <th>total_policy_claims</th>\n",
       "    </tr>\n",
       "  </thead>\n",
       "  <tbody>\n",
       "    <tr>\n",
       "      <th>count</th>\n",
       "      <td>1.085000e+03</td>\n",
       "      <td>1.085000e+03</td>\n",
       "      <td>1075.000000</td>\n",
       "    </tr>\n",
       "    <tr>\n",
       "      <th>mean</th>\n",
       "      <td>5.076790e+07</td>\n",
       "      <td>4.891553e+07</td>\n",
       "      <td>1.586977</td>\n",
       "    </tr>\n",
       "    <tr>\n",
       "      <th>std</th>\n",
       "      <td>2.849625e+07</td>\n",
       "      <td>2.912818e+07</td>\n",
       "      <td>1.146859</td>\n",
       "    </tr>\n",
       "    <tr>\n",
       "      <th>min</th>\n",
       "      <td>1.545570e+05</td>\n",
       "      <td>2.683200e+04</td>\n",
       "      <td>1.000000</td>\n",
       "    </tr>\n",
       "    <tr>\n",
       "      <th>25%</th>\n",
       "      <td>2.645062e+07</td>\n",
       "      <td>2.404606e+07</td>\n",
       "      <td>1.000000</td>\n",
       "    </tr>\n",
       "    <tr>\n",
       "      <th>50%</th>\n",
       "      <td>4.975949e+07</td>\n",
       "      <td>4.855975e+07</td>\n",
       "      <td>1.000000</td>\n",
       "    </tr>\n",
       "    <tr>\n",
       "      <th>75%</th>\n",
       "      <td>7.609396e+07</td>\n",
       "      <td>7.404400e+07</td>\n",
       "      <td>2.000000</td>\n",
       "    </tr>\n",
       "    <tr>\n",
       "      <th>max</th>\n",
       "      <td>9.996199e+07</td>\n",
       "      <td>9.977548e+07</td>\n",
       "      <td>8.000000</td>\n",
       "    </tr>\n",
       "  </tbody>\n",
       "</table>\n",
       "</div>"
      ],
      "text/plain": [
       "            CUST_ID      claim_id  total_policy_claims\n",
       "count  1.085000e+03  1.085000e+03          1075.000000\n",
       "mean   5.076790e+07  4.891553e+07             1.586977\n",
       "std    2.849625e+07  2.912818e+07             1.146859\n",
       "min    1.545570e+05  2.683200e+04             1.000000\n",
       "25%    2.645062e+07  2.404606e+07             1.000000\n",
       "50%    4.975949e+07  4.855975e+07             1.000000\n",
       "75%    7.609396e+07  7.404400e+07             2.000000\n",
       "max    9.996199e+07  9.977548e+07             8.000000"
      ]
     },
     "execution_count": 5,
     "metadata": {},
     "output_type": "execute_result"
    }
   ],
   "source": [
    "cust_data.describe()"
   ]
  },
  {
   "cell_type": "markdown",
   "id": "5558a4f8",
   "metadata": {},
   "source": [
    "### 3.\tConvert the column claim_amount to numeric. Use the appropriate modules/attributes to remove the $ sign."
   ]
  },
  {
   "cell_type": "code",
   "execution_count": 6,
   "id": "e7a2ab53",
   "metadata": {},
   "outputs": [
    {
     "name": "stderr",
     "output_type": "stream",
     "text": [
      "C:\\Users\\Nithin\\AppData\\Local\\Temp/ipykernel_17456/174342303.py:1: FutureWarning: The default value of regex will change from True to False in a future version. In addition, single character regular expressions will *not* be treated as literal strings when regex=True.\n",
      "  cust_data['claim_amount'] = cust_data.claim_amount.str.replace('$','').astype('float')\n"
     ]
    }
   ],
   "source": [
    "cust_data['claim_amount'] = cust_data.claim_amount.str.replace('$','').astype('float')"
   ]
  },
  {
   "cell_type": "markdown",
   "id": "b46baa65",
   "metadata": {},
   "source": [
    "### 4.\tOf all the injury claims, some of them have gone unreported with the police. Create an alert flag (1,0) for all such claims."
   ]
  },
  {
   "cell_type": "code",
   "execution_count": 7,
   "id": "7a894996",
   "metadata": {},
   "outputs": [],
   "source": [
    "cust_data['Flag'] = np.where(cust_data.police_report.isin(['No','Unknown']),0,1)"
   ]
  },
  {
   "cell_type": "markdown",
   "id": "29fd7e2e",
   "metadata": {},
   "source": [
    "### 5.\tOne customer can claim for insurance more than once and in each claim, multiple categories of claims can be involved. However, customer ID should remain unique.\n",
    "\n",
    "##### Retain the most recent observation and delete any duplicated records in the data based on the customer ID column.\n"
   ]
  },
  {
   "cell_type": "code",
   "execution_count": 8,
   "id": "caec6979",
   "metadata": {},
   "outputs": [],
   "source": [
    "cust_data.drop_duplicates(subset='CUST_ID',keep='last',inplace=True)"
   ]
  },
  {
   "cell_type": "markdown",
   "id": "614e1450",
   "metadata": {},
   "source": [
    "### 6.\tCheck for missing values and impute the missing values with an appropriate value. (mean for continuous and mode for categorical)"
   ]
  },
  {
   "cell_type": "code",
   "execution_count": 9,
   "id": "3dd10a6f",
   "metadata": {},
   "outputs": [
    {
     "data": {
      "text/plain": [
       "CUST_ID                 0\n",
       "gender                  0\n",
       "DateOfBirth             0\n",
       "State                   0\n",
       "Contact                 0\n",
       "Segment                 0\n",
       "claim_id                0\n",
       "incident_cause          0\n",
       "claim_date              0\n",
       "claim_area              0\n",
       "police_report           0\n",
       "claim_type              0\n",
       "claim_amount           65\n",
       "total_policy_claims    10\n",
       "fraudulent              0\n",
       "Flag                    0\n",
       "dtype: int64"
      ]
     },
     "execution_count": 9,
     "metadata": {},
     "output_type": "execute_result"
    }
   ],
   "source": [
    "cust_data.isnull().sum()"
   ]
  },
  {
   "cell_type": "code",
   "execution_count": 10,
   "id": "e3d16d58",
   "metadata": {},
   "outputs": [],
   "source": [
    "cust_data.claim_amount.fillna(cust_data.claim_amount.mean(),inplace=True)\n",
    "cust_data.total_policy_claims.fillna(cust_data.total_policy_claims.mode(),inplace= True)"
   ]
  },
  {
   "cell_type": "markdown",
   "id": "86634c87",
   "metadata": {},
   "source": [
    "### 7.\tCalculate the age of customers in years. Based on the age, categorize the customers according to the below criteria\n",
    "##### Children\t< 18\n",
    "##### Youth\t18-30\n",
    "##### Adult\t30-60\n",
    "##### Senior\t> 60"
   ]
  },
  {
   "cell_type": "code",
   "execution_count": 11,
   "id": "a7b0ec50",
   "metadata": {},
   "outputs": [],
   "source": [
    "cust_data.DateOfBirth = pd.to_datetime(cust_data.DateOfBirth)\n",
    "cust_data.claim_date = pd.to_datetime(cust_data.claim_date)"
   ]
  },
  {
   "cell_type": "code",
   "execution_count": 12,
   "id": "de5d3a73",
   "metadata": {},
   "outputs": [],
   "source": [
    "yr = (max(cust_data.claim_date.dt.year)-cust_data.DateOfBirth.dt.year)\n",
    "crt_yr = (max(cust_data.claim_date.dt.year)-(cust_data.DateOfBirth.dt.year-100))"
   ]
  },
  {
   "cell_type": "code",
   "execution_count": 13,
   "id": "a537db59",
   "metadata": {},
   "outputs": [],
   "source": [
    "cust_data['Age'] = np.where(cust_data.DateOfBirth > cust_data.claim_date,crt_yr,yr)"
   ]
  },
  {
   "cell_type": "code",
   "execution_count": 18,
   "id": "e4e03b49",
   "metadata": {},
   "outputs": [],
   "source": [
    "cust_data['Age_cat'] = np.where(cust_data.Age <= 30,'Youth',np.where(cust_data.Age <= 60,'Adult',np.where(cust_data.Age > 60,'Senior',0)))"
   ]
  },
  {
   "cell_type": "markdown",
   "id": "df2996f8",
   "metadata": {},
   "source": [
    "### 8.\tWhat is the average amount claimed by the customers from various segments?"
   ]
  },
  {
   "cell_type": "code",
   "execution_count": 14,
   "id": "c980beb0",
   "metadata": {},
   "outputs": [
    {
     "data": {
      "text/plain": [
       "Segment\n",
       "Gold        12846.386178\n",
       "Platinum    12371.644999\n",
       "Silver      12267.146560\n",
       "Name: claim_amount, dtype: float64"
      ]
     },
     "execution_count": 14,
     "metadata": {},
     "output_type": "execute_result"
    }
   ],
   "source": [
    "cust_data.groupby('Segment').claim_amount.mean()"
   ]
  },
  {
   "cell_type": "markdown",
   "id": "81b296fa",
   "metadata": {},
   "source": [
    "### 9.\tWhat is the total claim amount based on incident cause for all the claims that have been done at least 20 days prior to 1st of October, 2018."
   ]
  },
  {
   "cell_type": "code",
   "execution_count": 15,
   "id": "41c81371",
   "metadata": {},
   "outputs": [],
   "source": [
    "lc = pd.to_datetime('2018/10/01') - pd.DateOffset(days = 20)\n",
    "uc = pd.to_datetime('2018/10/01')"
   ]
  },
  {
   "cell_type": "code",
   "execution_count": 16,
   "id": "1bd6e509",
   "metadata": {},
   "outputs": [
    {
     "data": {
      "text/plain": [
       "324746.4792694965"
      ]
     },
     "execution_count": 16,
     "metadata": {},
     "output_type": "execute_result"
    }
   ],
   "source": [
    "cust_data[(cust_data.claim_date>= lc) & (cust_data.claim_date <= uc)].claim_amount.sum()"
   ]
  },
  {
   "cell_type": "markdown",
   "id": "969e3226",
   "metadata": {},
   "source": [
    "### 10.\tHow many adults from TX, DE and AK claimed insurance for driver related issues and causes?"
   ]
  },
  {
   "cell_type": "code",
   "execution_count": 19,
   "id": "8d2c4045",
   "metadata": {},
   "outputs": [
    {
     "data": {
      "text/plain": [
       "Age_cat\n",
       "Adult    24\n",
       "Name: CUST_ID, dtype: int64"
      ]
     },
     "execution_count": 19,
     "metadata": {},
     "output_type": "execute_result"
    }
   ],
   "source": [
    "cust_data.loc[cust_data.State.isin(['TX','DE','AK']) & cust_data.incident_cause.isin(['Driver error','Other driver error'])].groupby('Age_cat')['CUST_ID'].count().head(1)"
   ]
  },
  {
   "cell_type": "markdown",
   "id": "708fbb7d",
   "metadata": {},
   "source": [
    "### 11.\tDraw a pie chart between the aggregated value of claim amount based on gender and segment. Represent the claim amount as a percentage on the pie chart."
   ]
  },
  {
   "cell_type": "code",
   "execution_count": 20,
   "id": "94ca80a0",
   "metadata": {},
   "outputs": [],
   "source": [
    "df = pd.pivot_table(cust_data,index ='Segment',columns ='gender',values ='claim_amount')"
   ]
  },
  {
   "cell_type": "code",
   "execution_count": 21,
   "id": "81d85c48",
   "metadata": {},
   "outputs": [
    {
     "data": {
      "text/plain": [
       "array([<AxesSubplot:ylabel='Female'>, <AxesSubplot:ylabel='Male'>],\n",
       "      dtype=object)"
      ]
     },
     "execution_count": 21,
     "metadata": {},
     "output_type": "execute_result"
    },
    {
     "data": {
      "image/png": "[encoded data removed]",
      "text/plain": [
       "<Figure size 432x288 with 2 Axes>"
      ]
     },
     "metadata": {},
     "output_type": "display_data"
    }
   ],
   "source": [
    "df.plot(kind = 'pie',labels = df.index,autopct='%.1f%%',subplots = True)"
   ]
  },
  {
   "cell_type": "markdown",
   "id": "f4bdec37",
   "metadata": {},
   "source": [
    "### 12.\tAmong males and females, which gender had claimed the most for any type of driver related issues? E.g. This metric can be compared using a bar chart"
   ]
  },
  {
   "cell_type": "code",
   "execution_count": 22,
   "id": "1490077e",
   "metadata": {},
   "outputs": [],
   "source": [
    "df2 = cust_data.loc[cust_data.incident_cause.isin(['Driver error','Other driver error']),['gender','incident_cause']]"
   ]
  },
  {
   "cell_type": "code",
   "execution_count": 23,
   "id": "a2b3f892",
   "metadata": {},
   "outputs": [
    {
     "data": {
      "text/plain": [
       "<AxesSubplot:xlabel='gender'>"
      ]
     },
     "execution_count": 23,
     "metadata": {},
     "output_type": "execute_result"
    },
    {
     "data": {
      "image/png": "[encoded data removed]",
      "text/plain": [
       "<Figure size 432x288 with 1 Axes>"
      ]
     },
     "metadata": {
      "needs_background": "light"
     },
     "output_type": "display_data"
    }
   ],
   "source": [
    "df2.groupby('gender').count().plot(kind = 'bar')"
   ]
  },
  {
   "cell_type": "markdown",
   "id": "10bf40ee",
   "metadata": {},
   "source": [
    "### 13.\tWhich age group had the maximum fraudulent policy claims? Visualize it on a bar chart."
   ]
  },
  {
   "cell_type": "code",
   "execution_count": 24,
   "id": "9a8b886a",
   "metadata": {},
   "outputs": [],
   "source": [
    "df3 = cust_data.loc[cust_data.fraudulent == 'Yes',['Age_cat','fraudulent']]"
   ]
  },
  {
   "cell_type": "code",
   "execution_count": 25,
   "id": "5004c23a",
   "metadata": {},
   "outputs": [
    {
     "data": {
      "text/plain": [
       "<AxesSubplot:xlabel='Age_cat'>"
      ]
     },
     "execution_count": 25,
     "metadata": {},
     "output_type": "execute_result"
    },
    {
     "data": {
      "image/png": "[encoded data removed]",
      "text/plain": [
       "<Figure size 432x288 with 1 Axes>"
      ]
     },
     "metadata": {
      "needs_background": "light"
     },
     "output_type": "display_data"
    }
   ],
   "source": [
    "df3.groupby('Age_cat').count().plot(kind = 'bar')"
   ]
  },
  {
   "cell_type": "markdown",
   "id": "5fc56f03",
   "metadata": {},
   "source": [
    "### 14.\tVisualize the monthly trend of the total amount that has been claimed by the customers. Ensure that on the “month” axis, the month is in a chronological order not alphabetical order."
   ]
  },
  {
   "cell_type": "code",
   "execution_count": 26,
   "id": "6f710e2b",
   "metadata": {},
   "outputs": [],
   "source": [
    "df4 = cust_data\n",
    "df4['claim_mnth'] = cust_data.claim_date.dt.month"
   ]
  },
  {
   "cell_type": "code",
   "execution_count": 27,
   "id": "b7d5608c",
   "metadata": {},
   "outputs": [
    {
     "data": {
      "text/plain": [
       "<AxesSubplot:xlabel='claim_mnth'>"
      ]
     },
     "execution_count": 27,
     "metadata": {},
     "output_type": "execute_result"
    },
    {
     "data": {
      "image/png": "[encoded data removed]",
      "text/plain": [
       "<Figure size 432x288 with 1 Axes>"
      ]
     },
     "metadata": {
      "needs_background": "light"
     },
     "output_type": "display_data"
    }
   ],
   "source": [
    "df4.groupby('claim_mnth').claim_amount.sum().plot(kind='bar')"
   ]
  },
  {
   "cell_type": "markdown",
   "id": "2bf8f9af",
   "metadata": {},
   "source": [
    "### 15.\tWhat is the average claim amount for gender and age categories and suitably represent the above using a facetted bar chart, one facet that represents fraudulent claims and the other for non-fraudulent claims."
   ]
  },
  {
   "cell_type": "code",
   "execution_count": 28,
   "id": "803ded0e",
   "metadata": {},
   "outputs": [],
   "source": [
    "df5 = cust_data.loc[:,['gender','claim_amount','fraudulent','Age_cat']]\n",
    "df6 = pd.pivot_table(data=df5,index='gender',columns=['fraudulent','Age_cat'],values = 'claim_amount',aggfunc='sum')"
   ]
  },
  {
   "cell_type": "code",
   "execution_count": 29,
   "id": "c21422f1",
   "metadata": {},
   "outputs": [
    {
     "name": "stderr",
     "output_type": "stream",
     "text": [
      "C:\\Users\\Nithin\\anaconda3\\lib\\site-packages\\seaborn\\axisgrid.py:670: UserWarning: Using the barplot function without specifying `order` is likely to produce an incorrect plot.\n",
      "  warnings.warn(warning)\n"
     ]
    },
    {
     "data": {
      "image/png": "[encoded data removed]",
      "text/plain": [
       "<Figure size 495.25x216 with 2 Axes>"
      ]
     },
     "metadata": {
      "needs_background": "light"
     },
     "output_type": "display_data"
    }
   ],
   "source": [
    "df7 = sns.FacetGrid(df4, col = 'fraudulent', hue = 'Age_cat')\n",
    "df8 = (df7.map(sns.barplot, 'gender', 'claim_amount').add_legend())"
   ]
  },
  {
   "cell_type": "markdown",
   "id": "52768e59",
   "metadata": {},
   "source": [
    "## Based on the conclusions from exploratory analysis as well as suitable statistical tests, answer the below questions. Please include a detailed write-up on the parameters taken into consideration, the Hypothesis testing steps, conclusion from the p-values and the business implications of the statements"
   ]
  },
  {
   "cell_type": "markdown",
   "id": "eeecfe2d",
   "metadata": {},
   "source": [
    "### 16.\tIs there any similarity in the amount claimed by males and females?"
   ]
  },
  {
   "cell_type": "code",
   "execution_count": null,
   "id": "9b832f27",
   "metadata": {},
   "outputs": [],
   "source": [
    "#Hypothesis Testing\n",
    "Ho - There is similarity\n",
    "Ha - There is no similarity\n",
    "\n",
    "CI - 95%\n",
    "P - 0.05\n",
    "\n",
    "#Conc --> Ha Rejected"
   ]
  },
  {
   "cell_type": "code",
   "execution_count": 30,
   "id": "b5fd7338",
   "metadata": {},
   "outputs": [],
   "source": [
    "m = cust_data.loc[cust_data.gender == 'Male','claim_amount']\n",
    "f = cust_data.loc[cust_data.gender == 'Female','claim_amount']"
   ]
  },
  {
   "cell_type": "code",
   "execution_count": 31,
   "id": "bee9b37d",
   "metadata": {},
   "outputs": [
    {
     "data": {
      "text/plain": [
       "Ttest_indResult(statistic=0.9630529881732577, pvalue=0.3357373087404285)"
      ]
     },
     "execution_count": 31,
     "metadata": {},
     "output_type": "execute_result"
    }
   ],
   "source": [
    "stats.ttest_ind(m,f)"
   ]
  },
  {
   "cell_type": "markdown",
   "id": "9ad805a0",
   "metadata": {},
   "source": [
    "###### There is similarity in amounts claimed by males & females"
   ]
  },
  {
   "cell_type": "markdown",
   "id": "3c302755",
   "metadata": {},
   "source": [
    "### 17.\tIs there any relationship between age category and segment?"
   ]
  },
  {
   "cell_type": "code",
   "execution_count": null,
   "id": "3f174e72",
   "metadata": {},
   "outputs": [],
   "source": [
    "#Hypothesis Testing\n",
    "H0 - No relationship\n",
    "Ha - Has relationship\n",
    "\n",
    "CI - 95%\n",
    "P - 0.05\n",
    "\n",
    "#Conc --> Ha Rejected"
   ]
  },
  {
   "cell_type": "code",
   "execution_count": 32,
   "id": "412be32b",
   "metadata": {},
   "outputs": [],
   "source": [
    "df9 = pd.crosstab(cust_data.Age_cat,cust_data.Segment)"
   ]
  },
  {
   "cell_type": "code",
   "execution_count": 33,
   "id": "949560bd",
   "metadata": {},
   "outputs": [
    {
     "data": {
      "text/plain": [
       "(0.793525436282168,\n",
       " 0.6724935772286729,\n",
       " 2,\n",
       " array([[255.70779221, 248.81539889, 238.47680891],\n",
       "        [115.29220779, 112.18460111, 107.52319109]]))"
      ]
     },
     "execution_count": 33,
     "metadata": {},
     "output_type": "execute_result"
    }
   ],
   "source": [
    "stats.chi2_contingency(df9)"
   ]
  },
  {
   "cell_type": "markdown",
   "id": "520ea07b",
   "metadata": {},
   "source": [
    "###### There is no relationship between age category and segment"
   ]
  },
  {
   "cell_type": "markdown",
   "id": "f2d836d6",
   "metadata": {},
   "source": [
    "### 18.\tThe current year has shown a significant rise in claim amounts as compared to 2016-17 fiscal average which was $10,000."
   ]
  },
  {
   "cell_type": "code",
   "execution_count": null,
   "id": "b3903cad",
   "metadata": {},
   "outputs": [],
   "source": [
    "#Hypothesis Testing\n",
    "H0 - claims <= $10,000\n",
    "Ha - claims > $10,000\n",
    "\n",
    "CI - 95%\n",
    "P - 0.05\n",
    "\n",
    "#Conc --> Ho is Rejected"
   ]
  },
  {
   "cell_type": "code",
   "execution_count": 34,
   "id": "cb9713cb",
   "metadata": {},
   "outputs": [],
   "source": [
    "df10 = cust_data\n",
    "df10['claim_yr'] = df10.claim_date.dt.year\n",
    "df11 = df10[df10.claim_yr == (max(df10.claim_yr))]"
   ]
  },
  {
   "cell_type": "code",
   "execution_count": 35,
   "id": "6854296f",
   "metadata": {},
   "outputs": [
    {
     "data": {
      "text/plain": [
       "Ttest_1sampResult(statistic=4.508441689457533, pvalue=8.205144389110108e-06)"
      ]
     },
     "execution_count": 35,
     "metadata": {},
     "output_type": "execute_result"
    }
   ],
   "source": [
    "stats.ttest_1samp(df11.claim_amount,popmean=10000)"
   ]
  },
  {
   "cell_type": "markdown",
   "id": "9c696ee4",
   "metadata": {},
   "source": [
    "###### There is raise in claim amount compared to FY 2016-2017 of $10,000"
   ]
  },
  {
   "cell_type": "markdown",
   "id": "c8c4aed4",
   "metadata": {},
   "source": [
    "### 19.\tIs there any difference between age groups and insurance claims?"
   ]
  },
  {
   "cell_type": "code",
   "execution_count": null,
   "id": "b8f6ab6b",
   "metadata": {},
   "outputs": [],
   "source": [
    "#Hypothesis Testing\n",
    "H0 - No Difference\n",
    "Ha - There is Difference\n",
    "\n",
    "CI - 95%\n",
    "P - 0.05\n",
    "\n",
    "#Conc -> Ha is Rejected"
   ]
  },
  {
   "cell_type": "code",
   "execution_count": 54,
   "id": "c40c32e7",
   "metadata": {},
   "outputs": [],
   "source": [
    "s1 = cust_data.loc[cust_data.Age_cat == 'Adult','total_policy_claims'].dropna()\n",
    "s2 = cust_data.loc[cust_data.Age_cat == 'Youth','total_policy_claims'].dropna()"
   ]
  },
  {
   "cell_type": "code",
   "execution_count": 55,
   "id": "e148c4e7",
   "metadata": {},
   "outputs": [
    {
     "data": {
      "text/plain": [
       "F_onewayResult(statistic=0.11415888005675576, pvalue=0.7355246209251278)"
      ]
     },
     "execution_count": 55,
     "metadata": {},
     "output_type": "execute_result"
    }
   ],
   "source": [
    "stats.f_oneway(s1,s2)"
   ]
  },
  {
   "cell_type": "markdown",
   "id": "abc111c3",
   "metadata": {},
   "source": [
    "###### There is no difference between age groups & insurance claims"
   ]
  },
  {
   "cell_type": "markdown",
   "id": "0cdc69a1",
   "metadata": {},
   "source": [
    "### 20.\tIs there any relationship between total number of policy claims and the claimed amount?"
   ]
  },
  {
   "cell_type": "code",
   "execution_count": null,
   "id": "38ea09b4",
   "metadata": {},
   "outputs": [],
   "source": [
    "#Hypothesis Testing\n",
    "H0 - There is Relationship\n",
    "Ha - No Relationship\n",
    "\n",
    "CI - 95%\n",
    "P - 0.05\n",
    "\n",
    "#Conc -> Ha is Rejected"
   ]
  },
  {
   "cell_type": "code",
   "execution_count": 70,
   "id": "3c933913",
   "metadata": {},
   "outputs": [],
   "source": [
    "s3  = cust_data.loc[cust_data.total_policy_claims == 1,'claim_amount'].dropna()\n",
    "s4  = cust_data.loc[cust_data.total_policy_claims == 2,'claim_amount'].dropna()\n",
    "s5  = cust_data.loc[cust_data.total_policy_claims == 3,'claim_amount'].dropna()\n",
    "s6  = cust_data.loc[cust_data.total_policy_claims == 4,'claim_amount'].dropna()\n",
    "s7  = cust_data.loc[cust_data.total_policy_claims == 5,'claim_amount'].dropna()\n",
    "s8  = cust_data.loc[cust_data.total_policy_claims == 6,'claim_amount'].dropna()\n",
    "s9  = cust_data.loc[cust_data.total_policy_claims == 7,'claim_amount'].dropna()\n",
    "s10 = cust_data.loc[cust_data.total_policy_claims == 8,'claim_amount'].dropna()"
   ]
  },
  {
   "cell_type": "code",
   "execution_count": 72,
   "id": "7fd0310b",
   "metadata": {},
   "outputs": [
    {
     "data": {
      "text/plain": [
       "F_onewayResult(statistic=0.8389022172243692, pvalue=0.555019560496218)"
      ]
     },
     "execution_count": 72,
     "metadata": {},
     "output_type": "execute_result"
    }
   ],
   "source": [
    "stats.f_oneway(s3,s4,s5,s6,s7,s8,s9,s10)"
   ]
  },
  {
   "cell_type": "markdown",
   "id": "829f3fc2",
   "metadata": {},
   "source": [
    "###### There is relationship between total policy claims & claim amount"
   ]
  }
 ],
 "metadata": {
  "kernelspec": {
   "display_name": "Python 3 (ipykernel)",
   "language": "python",
   "name": "python3"
  },
  "language_info": {
   "codemirror_mode": {
    "name": "ipython",
    "version": 3
   },
   "file_extension": ".py",
   "mimetype": "text/x-python",
   "name": "python",
   "nbconvert_exporter": "python",
   "pygments_lexer": "ipython3",
   "version": "3.9.7"
  }
 },
 "nbformat": 4,
 "nbformat_minor": 5
}
